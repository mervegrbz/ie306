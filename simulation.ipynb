{
 "cells": [
  {
   "cell_type": "code",
   "execution_count": 483,
   "metadata": {},
   "outputs": [],
   "source": [
    "from numpy import random\n",
    "from scipy import stats\n",
    "import pandas as pd"
   ]
  },
  {
   "cell_type": "markdown",
   "metadata": {},
   "source": [
    "- We declared the predefined variables"
   ]
  },
  {
   "cell_type": "code",
   "execution_count": 484,
   "metadata": {},
   "outputs": [],
   "source": [
    "patient_per_hour = 1\n",
    "S = 3\n",
    "Triage_nurse_rate = 0.476190476\n",
    "p_1 = 0.2\n",
    "p_2 = 1 - 0.2\n",
    "K = 5\n",
    "Healing_in_hospital_rate = 0.213333333\n",
    "healing_of_stable_rate = 0.16\n",
    "random.seed(45)"
   ]
  },
  {
   "cell_type": "markdown",
   "metadata": {},
   "source": [
    "- This part is the definition of the variables that we will use in the code "
   ]
  },
  {
   "cell_type": "code",
   "execution_count": 485,
   "metadata": {},
   "outputs": [],
   "source": [
    "nurses = [{'arrival':0,'departure':0,'availability':True} for i in range(0,S)]\n",
    "beds = [{'departure':0,'availability':True}for i in range(0, K)]\n",
    "rejected_critical_patients = 0\n",
    "nurses_work_times = [0 for i in range(S)]\n",
    "beds_work_times = [ 0 for i in range(K)] \n",
    "duration_homecare = 0\n",
    "queue_nurse = []\n",
    "time_of_simulation, event_count, total_healed, total_sick, total_in_hospital, total_homesick = 0,0,0,0,0,0\n",
    "arrived_patient, last_arrived, total_triage_time, total_critical, total_time_healed = 0,0,0,0,0"
   ]
  },
  {
   "cell_type": "markdown",
   "metadata": {},
   "source": [
    "- This functions executes the arrival of a patient. It appends patient to the queue first and if any bed is available, create ` Arrival Nurse ` event"
   ]
  },
  {
   "cell_type": "code",
   "execution_count": 486,
   "metadata": {},
   "outputs": [],
   "source": [
    "def Execute_Arrival(id):\n",
    "  queue_nurse.append({'id':id,'arrival_time':time_of_simulation,'departure_time':0})\n",
    "  if check_nurse_availability():\n",
    "    event_list.append({ 'id': id,'time': time_of_simulation,'type': 'AN' })\n"
   ]
  },
  {
   "cell_type": "markdown",
   "metadata": {},
   "source": [
    "- If a patient arrives the nurse, nurse becomes unavailable and patient creates a new event ` Departure Nurse `"
   ]
  },
  {
   "cell_type": "code",
   "execution_count": 487,
   "metadata": {},
   "outputs": [],
   "source": [
    "def Execute_Arrival_Nurse():\n",
    "  patient = queue_nurse.pop(0)\n",
    "  service_time = Retrieve_Nurse_Service_Time()\n",
    "  departure_time = service_time + time_of_simulation\n",
    "  available_nurse = check_nurse_availability()-1\n",
    "  nurses[available_nurse]['departure'] = departure_time\n",
    "  nurses[available_nurse]['availability'] = False\n",
    "  nurses_work_times[available_nurse] +=service_time \n",
    "  event_list.append({'id':patient['id'],'time':departure_time, 'type':'DN'})\n"
   ]
  },
  {
   "cell_type": "markdown",
   "metadata": {},
   "source": [
    "- While departing nurse decides the condition, "
   ]
  },
  {
   "cell_type": "code",
   "execution_count": 488,
   "metadata": {},
   "outputs": [],
   "source": [
    "def Departure_Triage(patient):\n",
    "  condition = Retrieve_Condition()\n",
    "  global nurses, rejected_critical_patients, total_critical\n",
    "  nurses = [{'departure':nurse['departure'],'availability':time_of_simulation >= nurse['departure']} for nurse in nurses]\n",
    "  if condition == 's':\n",
    "    event_list.append({ 'id': patient,'time': time_of_simulation,'type': 'AH', 'condition': 's' })\n",
    "  else:\n",
    "    total_critical += 1\n",
    "    if(check_bed_availability()):\n",
    "      event_list.append({ 'id': patient,'time': time_of_simulation,'type': 'AB' })\n",
    "    else:\n",
    "      rejected_critical_patients += 1\n",
    "      event_list.append({ 'id': patient,'time': time_of_simulation,'type': 'AH' , 'condition': 'c'})\n",
    "\n",
    "  if (check_nurse_availability()):\n",
    "    if(len(queue_nurse)):\n",
    "      event_list.append({ 'id': patient,'time': time_of_simulation,'type': 'AN' })\n"
   ]
  },
  {
   "cell_type": "markdown",
   "metadata": {},
   "source": [
    "- Patients arrive home and system creates future event of departure."
   ]
  },
  {
   "cell_type": "code",
   "execution_count": 489,
   "metadata": {},
   "outputs": [],
   "source": [
    "def Execute_Arrival_Home(patient,condition):\n",
    "  global total_homesick\n",
    "  global duration_homecare, total_time_healed\n",
    "  total_homesick += 1\n",
    "  duration_homecare +=1\n",
    "  if (condition == 's'):\n",
    "    home_healed_time = Retrieve_Home_Healing_Time('s')\n",
    "    departure_from_heal = home_healed_time + time_of_simulation\n",
    "    total_time_healed += home_healed_time\n",
    "    event_list.append({'id':patient,'time':departure_from_heal, 'type':'DH'})\n",
    "  else:\n",
    "    departure_from_heal = Retrieve_Home_Healing_Time('c') + time_of_simulation\n",
    "    total_time_healed += departure_from_heal - time_of_simulation\n",
    "    event_list.append({ 'id': patient,'time': departure_from_heal,'type': 'DH' })\n",
    "\n"
   ]
  },
  {
   "cell_type": "markdown",
   "metadata": {},
   "source": [
    "- Patient arrives the bed, bed is not available anymore."
   ]
  },
  {
   "cell_type": "code",
   "execution_count": 490,
   "metadata": {},
   "outputs": [],
   "source": [
    "def Execute_Arrival_Bed(patient):\n",
    "  global total_time_healed\n",
    "  bed_healed = Generate_Hospital_Healing_Time()\n",
    "  departure_from_heal =  bed_healed + time_of_simulation\n",
    "  bed_number = check_bed_availability()-1\n",
    "  beds[bed_number]['departure'] = departure_from_heal\n",
    "  beds[bed_number]['availability'] = False\n",
    "  beds_work_times[bed_number] = bed_healed\n",
    "  total_time_healed += bed_healed\n",
    "  event_list.append({ 'id': patient,'time': departure_from_heal,'type': 'DB' })\n"
   ]
  },
  {
   "cell_type": "markdown",
   "metadata": {},
   "source": [
    "- Patient deprts from the homecase, is healed now."
   ]
  },
  {
   "cell_type": "code",
   "execution_count": 491,
   "metadata": {},
   "outputs": [],
   "source": [
    "def Execute_Departure_HomeCare(patient):\n",
    "\n",
    "  global total_healed, total_homesick, duration_homecare\n",
    "  total_healed += 1\n",
    "  total_homesick -= 1\n",
    "  duration_homecare -= 1\n",
    "  "
   ]
  },
  {
   "cell_type": "markdown",
   "metadata": {},
   "source": [
    "- This functions generates the values by using random library from numpy."
   ]
  },
  {
   "cell_type": "code",
   "execution_count": 492,
   "metadata": {},
   "outputs": [],
   "source": [
    "def Generate_interarrival():\n",
    "  return round(random.exponential(scale=float(60)),0) \n",
    "\n",
    "def Generate_Nurse_Service_Time():\n",
    "  return round(random.exponential(scale=float(60/Triage_nurse_rate)),0)\n",
    "\n",
    "def Generate_Condition():\n",
    "  number = triage_result.pop(0)\n",
    "  return 's' if number <= p_1  else 'c' \n",
    "\n",
    "def Generate_Hospital_Healing_Time():\n",
    "  return round(random.exponential(scale=float(60/Healing_in_hospital_rate)),0)\n",
    "\n",
    "def Generate_Home_Healing_Time(type):\n",
    "  stable = round(random.exponential(scale=float(60/healing_of_stable_rate)),0)\n",
    "  if type=='s':\n",
    "    return stable\n",
    "  else:\n",
    "    q=random.rand()\n",
    "    uniform_dist = stats.uniform.ppf(q,loc=1.75,scale=1.25)\n",
    "    return round(random.exponential(scale=float(60/((1+uniform_dist) * Healing_in_hospital_rate))),0) "
   ]
  },
  {
   "cell_type": "markdown",
   "metadata": {},
   "source": [
    "We used this function to find each arrival time of patient by summing interarrivals. "
   ]
  },
  {
   "cell_type": "code",
   "execution_count": 493,
   "metadata": {},
   "outputs": [],
   "source": [
    "def Arrival():\n",
    "  global last_arrived, arrived_patient\n",
    "  arrived_patient+=1\n",
    "  last_arrived += Retrieve_interarrival()\n",
    "  return last_arrived"
   ]
  },
  {
   "cell_type": "markdown",
   "metadata": {},
   "source": [
    "Retrieve the random variables from random list"
   ]
  },
  {
   "cell_type": "code",
   "execution_count": 494,
   "metadata": {},
   "outputs": [],
   "source": [
    "def Retrieve_interarrival():\n",
    "  return interarrival_list.pop(0)\n",
    "\n",
    "def Retrieve_Nurse_Service_Time():\n",
    "  return nurse_service_time.pop(0)\n",
    "\n",
    "def Retrieve_Condition():\n",
    "  number = triage_result.pop(0)\n",
    "  return 's' if number <= p_1  else 'c' \n",
    "\n",
    "def Retrieve_Hospital_Healing_Time():\n",
    "  return hospital_healing_time.pop(0)\n",
    "\n",
    "def Retrieve_Home_Healing_Time(type):\n",
    "  if type=='s':\n",
    "    return home_healing_stable.pop(0)\n",
    "  else:\n",
    "    return home_healing_critical.pop(0)\n"
   ]
  },
  {
   "cell_type": "markdown",
   "metadata": {},
   "source": [
    "Patient is healed and bed is available now."
   ]
  },
  {
   "cell_type": "code",
   "execution_count": 495,
   "metadata": {},
   "outputs": [],
   "source": [
    "def Treated_at_Hospital(patient):\n",
    "  global beds\n",
    "  global total_healed\n",
    "  total_healed+=1\n",
    "  beds = [{'departure':bed['departure'], 'availability':time_of_simulation >= bed['departure']} for bed in beds]\n",
    "  "
   ]
  },
  {
   "cell_type": "markdown",
   "metadata": {},
   "source": [
    "- It sets   event time to the simulation clock."
   ]
  },
  {
   "cell_type": "code",
   "execution_count": 496,
   "metadata": {},
   "outputs": [],
   "source": [
    "def Advance_Time(time):\n",
    "  global time_of_simulation\n",
    "  time_of_simulation = time\n"
   ]
  },
  {
   "cell_type": "markdown",
   "metadata": {},
   "source": [
    "- We sort the events according to time and this function calls the function according the event type."
   ]
  },
  {
   "cell_type": "code",
   "execution_count": 497,
   "metadata": {},
   "outputs": [],
   "source": [
    "def Execute_Event(event):\n",
    "  time = event['time']\n",
    "  Advance_Time(time)\n",
    "  if event['type'] == 'A':\n",
    "    Execute_Arrival(event['id'])\n",
    "  elif event['type'] == 'AN':\n",
    "    Execute_Arrival_Nurse()\n",
    "  elif event['type'] == 'AH':\n",
    "    Execute_Arrival_Home(event['id'], event['condition'])\n",
    "  elif event['type'] == 'AB':\n",
    "    Execute_Arrival_Bed(event['id'])\n",
    "  elif event['type'] == 'DN':\n",
    "    Departure_Triage(event['id'])\n",
    "  elif event['type'] == 'DH':\n",
    "    Execute_Departure_HomeCare(event['id'])\n",
    "  elif event['type'] == 'DB':\n",
    "    Treated_at_Hospital(event['id'])"
   ]
  },
  {
   "cell_type": "markdown",
   "metadata": {},
   "source": [
    "This two function checks the availability of beds and nurses."
   ]
  },
  {
   "cell_type": "code",
   "execution_count": 498,
   "metadata": {},
   "outputs": [],
   "source": [
    "def check_nurse_availability():\n",
    "  for i in range(len(nurses)):\n",
    "    if nurses[i]['availability']:\n",
    "      return i+1\n",
    "  return 0 \n",
    "\n",
    "def check_bed_availability():\n",
    "  for i in range(len(beds)):\n",
    "    if beds[i]['availability']:\n",
    "      return i+1\n",
    "  return 0"
   ]
  },
  {
   "cell_type": "markdown",
   "metadata": {},
   "source": [
    "- If you want to run the simulation half full you can run this code block."
   ]
  },
  {
   "cell_type": "code",
   "execution_count": 499,
   "metadata": {},
   "outputs": [],
   "source": [
    "isHalf = False\n",
    "isFull = True\n",
    "if isFull:\n",
    "  (queue_nurse.append({'id':0,'arrival_time':time_of_simulation,'departure_time':0}) for i in range(S))\n",
    "  (Execute_Arrival_Nurse() for i in range(S))\n",
    "  (Execute_Arrival_Bed(1) for i in range(K))\n",
    "\n",
    "if isHalf:\n",
    "  (queue_nurse.append({'id':0,'arrival_time':time_of_simulation,'departure_time':0}) for i in range(round(S/2)))\n",
    "  (Execute_Arrival_Nurse() for i in range(round(S/2)))\n",
    "  (Execute_Arrival_Bed(1) for i in range(round(K/2)))\n"
   ]
  },
  {
   "cell_type": "markdown",
   "metadata": {},
   "source": [
    "- We create random number list for each event, so that the code uses the same random variables with hand simulation,\n",
    "- `while ` loop decides how many operations will be done\n",
    "- Results.csv file is the table that indicates the steps taken in the simulation.\n",
    "- I have printed the average values in command line."
   ]
  },
  {
   "cell_type": "code",
   "execution_count": 500,
   "metadata": {},
   "outputs": [
    {
     "name": "stdout",
     "output_type": "stream",
     "text": [
      "union of two probabilities 0.7305824512090483\n",
      "intersection of two probabilities 0.002445084548862959\n",
      "rejected critical 0.16865203761755485\n",
      "utilization nurse 0.7296766204616034\n",
      "average hour home 0.005677101240241172\n",
      "healed average 262.4165\n"
     ]
    }
   ],
   "source": [
    "interarrival_list = [ Generate_interarrival() for i in range(0,10000)] \n",
    "event_list = [ ({'id':arrived_patient, \"time\":Arrival(), 'type':'A'}) for i in range(0,10000) ]\n",
    "\n",
    "nurse_service_time = [ Generate_Nurse_Service_Time() for i in range(0,10000)]\n",
    "hospital_healing_time = [Generate_Hospital_Healing_Time() for i in range(0,10000)]\n",
    "triage_result = [round(random.rand(),2) for i in range(0,10000)]\n",
    "home_healing_stable = [Generate_Home_Healing_Time('s') for i in range(0,10000)]\n",
    "home_healing_critical = [Generate_Home_Healing_Time('c') for i in range(0,10000)]\n",
    "simulation_table = []\n",
    "total_bed_time = 0\n",
    "total_nurse_time = 0\n",
    "average_patient_home = 0\n",
    "\n",
    "while total_healed < 2000:\n",
    "  duration_homecare = 0 \n",
    "  earlier_date = time_of_simulation\n",
    "  event_list.sort(key=lambda x: (x['time'],x['id']),reverse = True)\n",
    "  event = event_list.pop()\n",
    "  time_of_simulation = event['time']\n",
    "  Execute_Event(event)\n",
    "  total_bed = sum([ 0 if i['availability'] else 1 for i in beds])\n",
    "  total_bed_time += (time_of_simulation - earlier_date)*total_bed\n",
    "  total_nurse =  sum([ 0 if i['availability'] else 1 for i in nurses])\n",
    "  total_nurse_time += total_nurse*(time_of_simulation - earlier_date)\n",
    "  total_sick = len(queue_nurse) + total_bed + total_nurse + total_homesick \n",
    "  simulation_table.append({ 'time':time_of_simulation, 'total Sick':total_sick, 'total in hospital':total_sick - total_homesick, 'total in queue': len(queue_nurse), 'total in bed': total_bed ,'total in nurse':total_nurse, 'total healed': total_healed}| event)\n",
    "  event_count += 1\n",
    "  average_patient_home += duration_homecare if duration_homecare >0 else 0 * (time_of_simulation - earlier_date) \n",
    "\n",
    "simulation_table_df = pd.DataFrame(simulation_table)\n",
    "simulation_table_df.to_csv('Results.csv')\n",
    "bed_work = (float(sum(beds_work_times))/K )\n",
    "nurse_work = (float(sum(nurses_work_times))/S)\n",
    "kesisim = (bed_work* nurse_work)/ (time_of_simulation)**2\n",
    "joint_prob_empty = (bed_work + nurse_work)/float(time_of_simulation) - kesisim\n",
    "print('union of two probabilities', joint_prob_empty)\n",
    "print('intersection of two probabilities',kesisim)\n",
    "rejected = rejected_critical_patients/total_critical\n",
    "print('rejected critical',rejected)\n",
    "utilization_nurse = nurse_work/float(time_of_simulation)\n",
    "print('utilization nurse',utilization_nurse)\n",
    "print('average hour home',average_patient_home/time_of_simulation)\n",
    "print('healed average', total_time_healed/total_healed)"
   ]
  }
 ],
 "metadata": {
  "kernelspec": {
   "display_name": "Python 3.11.2 64-bit",
   "language": "python",
   "name": "python3"
  },
  "language_info": {
   "codemirror_mode": {
    "name": "ipython",
    "version": 3
   },
   "file_extension": ".py",
   "mimetype": "text/x-python",
   "name": "python",
   "nbconvert_exporter": "python",
   "pygments_lexer": "ipython3",
   "version": "3.11.2"
  },
  "orig_nbformat": 4,
  "vscode": {
   "interpreter": {
    "hash": "b0fa6594d8f4cbf19f97940f81e996739fb7646882a419484c72d19e05852a7e"
   }
  }
 },
 "nbformat": 4,
 "nbformat_minor": 2
}
